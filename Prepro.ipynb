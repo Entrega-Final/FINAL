{
 "cells": [
  {
   "cell_type": "markdown",
   "id": "89c820a2",
   "metadata": {},
   "source": [
    "# ENTREGA FINAL \n",
    "## GeoDataFrame\n"
   ]
  },
  {
   "cell_type": "code",
   "execution_count": 2,
   "id": "fe05bb6a",
   "metadata": {},
   "outputs": [
    {
     "data": {
      "text/plain": [
       "['airports',\n",
       " 'states',\n",
       " 'municipalities',\n",
       " 'country',\n",
       " 'cities',\n",
       " 'rivers',\n",
       " 'border']"
      ]
     },
     "execution_count": 2,
     "metadata": {},
     "output_type": "execute_result"
    }
   ],
   "source": [
    "from  fiona import listlayers\n",
    "import os\n",
    "\n",
    "russiaMaps=os.path.join('maps','russiaMaps_5940_all.gpkg')\n",
    "\n",
    "#layers in maps\n",
    "listlayers(russiaMaps)\n"
   ]
  },
  {
   "cell_type": "code",
   "execution_count": 3,
   "id": "bb993cfe",
   "metadata": {},
   "outputs": [],
   "source": [
    "# reading in the data:\n",
    "import os\n",
    "import geopandas as gpd\n",
    "\n",
    "states=gpd.read_file(russiaMaps,layer='states')\n",
    "municipalities=gpd.read_file(russiaMaps,layer='municipalities')\n",
    "airports=gpd.read_file(russiaMaps,layer='airports')\n",
    "rivers=gpd.read_file(russiaMaps,layer='rivers')\n",
    "border=gpd.read_file(russiaMaps,layer='border')"
   ]
  },
  {
   "cell_type": "code",
   "execution_count": 4,
   "id": "7b6c4a22",
   "metadata": {},
   "outputs": [
    {
     "data": {
      "text/plain": [
       "['World Port Index Number',\n",
       " 'Region Name',\n",
       " 'Main Port Name',\n",
       " 'Alternate Port Name',\n",
       " 'UN/LOCODE',\n",
       " 'Country Code',\n",
       " 'World Water Body',\n",
       " 'IHO S-130 Sea Area',\n",
       " 'Sailing Direction or Publication',\n",
       " 'Publication Link',\n",
       " 'Standard Nautical Chart',\n",
       " 'IHO S-57 Electronic Navigational Chart',\n",
       " 'IHO S-101 Electronic Navigational Chart',\n",
       " 'Digital Nautical Chart',\n",
       " 'Tidal Range (m)',\n",
       " 'Entrance Width (m)',\n",
       " 'Channel Depth (m)',\n",
       " 'Anchorage Depth (m)',\n",
       " 'Cargo Pier Depth (m)',\n",
       " 'Oil Terminal Depth (m)',\n",
       " 'Liquified Natural Gas Terminal Depth (m)',\n",
       " 'Maximum Vessel Length (m)',\n",
       " 'Maximum Vessel Beam (m)',\n",
       " 'Maximum Vessel Draft (m)',\n",
       " 'Offshore Maximum Vessel Length (m)',\n",
       " 'Offshore Maximum Vessel Beam (m)',\n",
       " 'Offshore Maximum Vessel Draft (m)',\n",
       " 'Harbor Size',\n",
       " 'Harbor Type',\n",
       " 'Harbor Use',\n",
       " 'Shelter Afforded',\n",
       " 'Entrance Restriction - Tide',\n",
       " 'Entrance Restriction - Heavy Swell',\n",
       " 'Entrance Restriction - Ice',\n",
       " 'Entrance Restriction - Other',\n",
       " 'Overhead Limits',\n",
       " 'Underkeel Clearance Management System',\n",
       " 'Good Holding Ground',\n",
       " 'Turning Area',\n",
       " 'Port Security',\n",
       " 'Estimated Time of Arrival Message',\n",
       " 'Quarantine - Pratique',\n",
       " 'Quarantine - Sanitation',\n",
       " 'Quarantine - Other',\n",
       " 'Traffic Separation Scheme',\n",
       " 'Vessel Traffic Service',\n",
       " 'First Port of Entry',\n",
       " 'US Representative',\n",
       " 'Pilotage - Compulsory',\n",
       " 'Pilotage - Available',\n",
       " 'Pilotage - Local Assistance',\n",
       " 'Pilotage - Advisable',\n",
       " 'Tugs - Salvage',\n",
       " 'Tugs - Assistance',\n",
       " 'Communications - Telephone',\n",
       " 'Communications - Telefax',\n",
       " 'Communications - Radio',\n",
       " 'Communications - Radiotelephone',\n",
       " 'Communications - Airport',\n",
       " 'Communications - Rail',\n",
       " 'Search and Rescue',\n",
       " 'NAVAREA',\n",
       " 'Facilities - Wharves',\n",
       " 'Facilities - Anchorage',\n",
       " 'Facilities - Dangerous Cargo Anchorage',\n",
       " 'Facilities - Med Mooring',\n",
       " 'Facilities - Beach Mooring',\n",
       " 'Facilities - Ice Mooring',\n",
       " 'Facilities - Ro-Ro',\n",
       " 'Facilities - Solid Bulk',\n",
       " 'Facilities - Liquid Bulk',\n",
       " 'Facilities - Container',\n",
       " 'Facilities - Breakbulk',\n",
       " 'Facilities - Oil Terminal',\n",
       " 'Facilities - LNG Terminal',\n",
       " 'Facilities - Other',\n",
       " 'Medical Facilities',\n",
       " 'Garbage Disposal',\n",
       " 'Chemical Holding Tank Disposal',\n",
       " 'Degaussing',\n",
       " 'Dirty Ballast Disposal',\n",
       " 'Cranes - Fixed',\n",
       " 'Cranes - Mobile',\n",
       " 'Cranes - Floating',\n",
       " 'Cranes - Container',\n",
       " 'Lifts - 100+ Tons',\n",
       " 'Lifts - 50-100 Tons',\n",
       " 'Lifts - 25-49 Tons',\n",
       " 'Lifts - 0-24 Tons',\n",
       " 'Services - Longshoremen',\n",
       " 'Services - Electricity',\n",
       " 'Services - Steam',\n",
       " 'Services - Navigation Equipment',\n",
       " 'Services - Electrical Repair',\n",
       " 'Services - Ice Breaking',\n",
       " 'Services - Diving',\n",
       " 'Supplies - Provisions',\n",
       " 'Supplies - Potable Water',\n",
       " 'Supplies - Fuel Oil',\n",
       " 'Supplies - Diesel Oil',\n",
       " 'Supplies - Aviation Fuel',\n",
       " 'Supplies - Deck',\n",
       " 'Supplies - Engine',\n",
       " 'Repairs',\n",
       " 'Dry Dock',\n",
       " 'Railway',\n",
       " 'Latitude',\n",
       " 'Longitude']"
      ]
     },
     "execution_count": 4,
     "metadata": {},
     "output_type": "execute_result"
    }
   ],
   "source": [
    "import pandas as pd \n",
    "\n",
    "\n",
    "portsFile=os.path.join('data','UpdatedPub150.csv')\n",
    "\n",
    "infoseaports=pd.read_csv(portsFile)\n",
    "\n",
    "infoseaports.columns.to_list()"
   ]
  },
  {
   "cell_type": "code",
   "execution_count": 5,
   "id": "05b4cf41",
   "metadata": {},
   "outputs": [
    {
     "name": "stdout",
     "output_type": "stream",
     "text": [
      "<class 'pandas.core.frame.DataFrame'>\n",
      "RangeIndex: 3739 entries, 0 to 3738\n",
      "Data columns (total 4 columns):\n",
      " #   Column        Non-Null Count  Dtype  \n",
      "---  ------        --------------  -----  \n",
      " 0   portName      3739 non-null   object \n",
      " 1   Country Code  3739 non-null   object \n",
      " 2   Latitude      3739 non-null   float64\n",
      " 3   Longitude     3739 non-null   float64\n",
      "dtypes: float64(2), object(2)\n",
      "memory usage: 117.0+ KB\n"
     ]
    }
   ],
   "source": [
    "infoseaports.rename(columns={'Main Port Name':'portName'},inplace=True)\n",
    "\n",
    "infoseaports=infoseaports.loc[:,['portName', 'Country Code','Latitude', 'Longitude']]\n",
    "\n",
    "infoseaports.info()"
   ]
  },
  {
   "cell_type": "code",
   "execution_count": 6,
   "id": "dc45a383",
   "metadata": {},
   "outputs": [
    {
     "data": {
      "text/html": [
       "<div>\n",
       "<style scoped>\n",
       "    .dataframe tbody tr th:only-of-type {\n",
       "        vertical-align: middle;\n",
       "    }\n",
       "\n",
       "    .dataframe tbody tr th {\n",
       "        vertical-align: top;\n",
       "    }\n",
       "\n",
       "    .dataframe thead th {\n",
       "        text-align: right;\n",
       "    }\n",
       "</style>\n",
       "<table border=\"1\" class=\"dataframe\">\n",
       "  <thead>\n",
       "    <tr style=\"text-align: right;\">\n",
       "      <th></th>\n",
       "      <th>portName</th>\n",
       "      <th>Country Code</th>\n",
       "      <th>Latitude</th>\n",
       "      <th>Longitude</th>\n",
       "    </tr>\n",
       "  </thead>\n",
       "  <tbody>\n",
       "    <tr>\n",
       "      <th>0</th>\n",
       "      <td>Maurer</td>\n",
       "      <td>United States</td>\n",
       "      <td>40.533333</td>\n",
       "      <td>-74.250000</td>\n",
       "    </tr>\n",
       "    <tr>\n",
       "      <th>1</th>\n",
       "      <td>Mangkasa Oil Terminal</td>\n",
       "      <td>Indonesia</td>\n",
       "      <td>-2.733333</td>\n",
       "      <td>121.066667</td>\n",
       "    </tr>\n",
       "    <tr>\n",
       "      <th>2</th>\n",
       "      <td>Iharana</td>\n",
       "      <td>Madagascar</td>\n",
       "      <td>-13.350000</td>\n",
       "      <td>50.000000</td>\n",
       "    </tr>\n",
       "    <tr>\n",
       "      <th>3</th>\n",
       "      <td>Andoany</td>\n",
       "      <td>Madagascar</td>\n",
       "      <td>-13.400000</td>\n",
       "      <td>48.300000</td>\n",
       "    </tr>\n",
       "    <tr>\n",
       "      <th>4</th>\n",
       "      <td>Chake Chake</td>\n",
       "      <td>Tanzania</td>\n",
       "      <td>-5.250000</td>\n",
       "      <td>39.766667</td>\n",
       "    </tr>\n",
       "  </tbody>\n",
       "</table>\n",
       "</div>"
      ],
      "text/plain": [
       "                portName   Country Code   Latitude   Longitude\n",
       "0                 Maurer  United States  40.533333  -74.250000\n",
       "1  Mangkasa Oil Terminal      Indonesia  -2.733333  121.066667\n",
       "2                Iharana     Madagascar -13.350000   50.000000\n",
       "3                Andoany     Madagascar -13.400000   48.300000\n",
       "4            Chake Chake       Tanzania  -5.250000   39.766667"
      ]
     },
     "execution_count": 6,
     "metadata": {},
     "output_type": "execute_result"
    }
   ],
   "source": [
    "infoseaports.head()\n"
   ]
  },
  {
   "cell_type": "code",
   "execution_count": 7,
   "id": "60eb5719",
   "metadata": {},
   "outputs": [],
   "source": [
    "seaports=gpd.GeoDataFrame(data=infoseaports.copy(),\n",
    "                           geometry=gpd.points_from_xy(infoseaports.Longitude,\n",
    "                                                       infoseaports.Latitude), \n",
    "                          crs=4326)\n",
    "\n",
    "\n",
    "seaports_russ=seaports[seaports['Country Code']=='Russia'].copy()\n",
    "\n",
    "\n",
    "seaports_russ.reset_index(drop=True, inplace=True)\n",
    "\n",
    "\n",
    "seaports_russ_5940=seaports_russ.to_crs(5940)"
   ]
  },
  {
   "cell_type": "code",
   "execution_count": 8,
   "id": "07ede173",
   "metadata": {},
   "outputs": [
    {
     "data": {
      "text/plain": [
       "<Axes: >"
      ]
     },
     "execution_count": 8,
     "metadata": {},
     "output_type": "execute_result"
    },
    {
     "data": {
      "image/png": "[encoded data removed]",
      "text/plain": [
       "<Figure size 640x480 with 1 Axes>"
      ]
     },
     "metadata": {},
     "output_type": "display_data"
    }
   ],
   "source": [
    "largeAirports=airports[airports['kind']=='large_airport']\n",
    "largeAirports.reset_index(drop=True, inplace=True)\n",
    "\n",
    "\n",
    "base=largeAirports.plot(color='red',marker=\"^\")\n",
    "seaports_russ_5940.plot(ax=base,alpha=0.5,markersize=3)"
   ]
  },
  {
   "cell_type": "markdown",
   "id": "dfca421e",
   "metadata": {},
   "source": [
    "# Parte 01: Distancia entre los objetos espaciales\n",
    "## Distancia entre puntos"
   ]
  },
  {
   "cell_type": "code",
   "execution_count": 9,
   "id": "5b352420",
   "metadata": {},
   "outputs": [
    {
     "data": {
      "text/html": [
       "<div>\n",
       "<style scoped>\n",
       "    .dataframe tbody tr th:only-of-type {\n",
       "        vertical-align: middle;\n",
       "    }\n",
       "\n",
       "    .dataframe tbody tr th {\n",
       "        vertical-align: top;\n",
       "    }\n",
       "\n",
       "    .dataframe thead th {\n",
       "        text-align: right;\n",
       "    }\n",
       "</style>\n",
       "<table border=\"1\" class=\"dataframe\">\n",
       "  <thead>\n",
       "    <tr style=\"text-align: right;\">\n",
       "      <th></th>\n",
       "      <th>portName</th>\n",
       "      <th>Country Code</th>\n",
       "      <th>Latitude</th>\n",
       "      <th>Longitude</th>\n",
       "      <th>geometry</th>\n",
       "    </tr>\n",
       "  </thead>\n",
       "  <tbody>\n",
       "    <tr>\n",
       "      <th>0</th>\n",
       "      <td>Bukhta Gaydamak</td>\n",
       "      <td>Russia</td>\n",
       "      <td>42.866667</td>\n",
       "      <td>132.683333</td>\n",
       "      <td>POINT (4572656.440 -2903653.774)</td>\n",
       "    </tr>\n",
       "    <tr>\n",
       "      <th>1</th>\n",
       "      <td>Adler</td>\n",
       "      <td>Russia</td>\n",
       "      <td>43.433333</td>\n",
       "      <td>39.933333</td>\n",
       "      <td>POINT (-2954064.563 -303104.287)</td>\n",
       "    </tr>\n",
       "    <tr>\n",
       "      <th>2</th>\n",
       "      <td>Vitaz Marine Terminal</td>\n",
       "      <td>Russia</td>\n",
       "      <td>52.700000</td>\n",
       "      <td>143.550000</td>\n",
       "      <td>POINT (4672279.177 -1353504.256)</td>\n",
       "    </tr>\n",
       "    <tr>\n",
       "      <th>3</th>\n",
       "      <td>Shakotan</td>\n",
       "      <td>Russia</td>\n",
       "      <td>43.866667</td>\n",
       "      <td>146.833333</td>\n",
       "      <td>POINT (5606042.767 -2028420.271)</td>\n",
       "    </tr>\n",
       "    <tr>\n",
       "      <th>4</th>\n",
       "      <td>Azov</td>\n",
       "      <td>Russia</td>\n",
       "      <td>47.100000</td>\n",
       "      <td>39.433333</td>\n",
       "      <td>POINT (-2542815.985 -63900.270)</td>\n",
       "    </tr>\n",
       "  </tbody>\n",
       "</table>\n",
       "</div>"
      ],
      "text/plain": [
       "                portName Country Code   Latitude   Longitude  \\\n",
       "0        Bukhta Gaydamak       Russia  42.866667  132.683333   \n",
       "1                  Adler       Russia  43.433333   39.933333   \n",
       "2  Vitaz Marine Terminal       Russia  52.700000  143.550000   \n",
       "3               Shakotan       Russia  43.866667  146.833333   \n",
       "4                   Azov       Russia  47.100000   39.433333   \n",
       "\n",
       "                           geometry  \n",
       "0  POINT (4572656.440 -2903653.774)  \n",
       "1  POINT (-2954064.563 -303104.287)  \n",
       "2  POINT (4672279.177 -1353504.256)  \n",
       "3  POINT (5606042.767 -2028420.271)  \n",
       "4   POINT (-2542815.985 -63900.270)  "
      ]
     },
     "execution_count": 9,
     "metadata": {},
     "output_type": "execute_result"
    }
   ],
   "source": [
    "seaports_russ_5940.head()"
   ]
  },
  {
   "cell_type": "code",
   "execution_count": 10,
   "id": "c96e5e8b",
   "metadata": {},
   "outputs": [
    {
     "data": {
      "text/html": [
       "<div>\n",
       "<style scoped>\n",
       "    .dataframe tbody tr th:only-of-type {\n",
       "        vertical-align: middle;\n",
       "    }\n",
       "\n",
       "    .dataframe tbody tr th {\n",
       "        vertical-align: top;\n",
       "    }\n",
       "\n",
       "    .dataframe thead th {\n",
       "        text-align: right;\n",
       "    }\n",
       "</style>\n",
       "<table border=\"1\" class=\"dataframe\">\n",
       "  <thead>\n",
       "    <tr style=\"text-align: right;\">\n",
       "      <th></th>\n",
       "      <th>name</th>\n",
       "      <th>kind</th>\n",
       "      <th>latitude_deg</th>\n",
       "      <th>longitude_deg</th>\n",
       "      <th>elevation_ft</th>\n",
       "      <th>region_name</th>\n",
       "      <th>municipality</th>\n",
       "      <th>geometry</th>\n",
       "    </tr>\n",
       "  </thead>\n",
       "  <tbody>\n",
       "    <tr>\n",
       "      <th>0</th>\n",
       "      <td>Sheremetyevo International Airport</td>\n",
       "      <td>large_airport</td>\n",
       "      <td>55.972599</td>\n",
       "      <td>37.414600</td>\n",
       "      <td>622.0</td>\n",
       "      <td>Moscow Oblast</td>\n",
       "      <td>Moscow</td>\n",
       "      <td>POINT (-1594689.376 517304.239)</td>\n",
       "    </tr>\n",
       "    <tr>\n",
       "      <th>1</th>\n",
       "      <td>Domodedovo International Airport</td>\n",
       "      <td>large_airport</td>\n",
       "      <td>55.408798</td>\n",
       "      <td>37.906300</td>\n",
       "      <td>588.0</td>\n",
       "      <td>Moscow Oblast</td>\n",
       "      <td>Moscow</td>\n",
       "      <td>POINT (-1644777.787 459913.318)</td>\n",
       "    </tr>\n",
       "    <tr>\n",
       "      <th>2</th>\n",
       "      <td>Pulkovo Airport</td>\n",
       "      <td>large_airport</td>\n",
       "      <td>59.800301</td>\n",
       "      <td>30.262501</td>\n",
       "      <td>78.0</td>\n",
       "      <td>Saint Petersburg (city)</td>\n",
       "      <td>St. Petersburg</td>\n",
       "      <td>POINT (-1308631.240 1097188.014)</td>\n",
       "    </tr>\n",
       "    <tr>\n",
       "      <th>3</th>\n",
       "      <td>Vnukovo International Airport</td>\n",
       "      <td>large_airport</td>\n",
       "      <td>55.591499</td>\n",
       "      <td>37.261501</td>\n",
       "      <td>685.0</td>\n",
       "      <td>Moscow Oblast</td>\n",
       "      <td>Moscow</td>\n",
       "      <td>POINT (-1641365.027 509424.872)</td>\n",
       "    </tr>\n",
       "    <tr>\n",
       "      <th>4</th>\n",
       "      <td>Novosibirsk Tolmachevo Airport</td>\n",
       "      <td>large_airport</td>\n",
       "      <td>55.019756</td>\n",
       "      <td>82.618675</td>\n",
       "      <td>365.0</td>\n",
       "      <td>Novosibirsk Oblast</td>\n",
       "      <td>Novosibirsk</td>\n",
       "      <td>POINT (475373.773 -1702445.286)</td>\n",
       "    </tr>\n",
       "  </tbody>\n",
       "</table>\n",
       "</div>"
      ],
      "text/plain": [
       "                                 name           kind  latitude_deg  \\\n",
       "0  Sheremetyevo International Airport  large_airport     55.972599   \n",
       "1    Domodedovo International Airport  large_airport     55.408798   \n",
       "2                     Pulkovo Airport  large_airport     59.800301   \n",
       "3       Vnukovo International Airport  large_airport     55.591499   \n",
       "4      Novosibirsk Tolmachevo Airport  large_airport     55.019756   \n",
       "\n",
       "   longitude_deg  elevation_ft              region_name    municipality  \\\n",
       "0      37.414600         622.0            Moscow Oblast          Moscow   \n",
       "1      37.906300         588.0            Moscow Oblast          Moscow   \n",
       "2      30.262501          78.0  Saint Petersburg (city)  St. Petersburg   \n",
       "3      37.261501         685.0            Moscow Oblast          Moscow   \n",
       "4      82.618675         365.0       Novosibirsk Oblast     Novosibirsk   \n",
       "\n",
       "                           geometry  \n",
       "0   POINT (-1594689.376 517304.239)  \n",
       "1   POINT (-1644777.787 459913.318)  \n",
       "2  POINT (-1308631.240 1097188.014)  \n",
       "3   POINT (-1641365.027 509424.872)  \n",
       "4   POINT (475373.773 -1702445.286)  "
      ]
     },
     "execution_count": 10,
     "metadata": {},
     "output_type": "execute_result"
    }
   ],
   "source": [
    "largeAirports.head()"
   ]
  },
  {
   "cell_type": "code",
   "execution_count": 11,
   "id": "4b2787a0",
   "metadata": {},
   "outputs": [],
   "source": [
    "distanceMatrixKM_sea_air= seaports_russ_5940.set_index('portName').geometry.apply\\\n",
    "                          (lambda g: largeAirports.set_index('name').geometry.distance(g)/1000).\\\n",
    "                          sort_index(axis=0).sort_index(axis=1)"
   ]
  },
  {
   "cell_type": "code",
   "execution_count": 13,
   "id": "54b092c4",
   "metadata": {},
   "outputs": [],
   "source": [
    "selected_row = distanceMatrixKM_sea_air.iloc[0]"
   ]
  },
  {
   "cell_type": "code",
   "execution_count": 14,
   "id": "b9deaedb",
   "metadata": {},
   "outputs": [],
   "source": [
    "min_distance_airport = selected_row.idxmin()"
   ]
  },
  {
   "cell_type": "code",
   "execution_count": 15,
   "id": "7e3d9d58",
   "metadata": {},
   "outputs": [
    {
     "ename": "KeyError",
     "evalue": "'Sochi International Airport'",
     "output_type": "error",
     "traceback": [
      "\u001b[1;31m---------------------------------------------------------------------------\u001b[0m",
      "\u001b[1;31mKeyError\u001b[0m                                  Traceback (most recent call last)",
      "Cell \u001b[1;32mIn[15], line 1\u001b[0m\n\u001b[1;32m----> 1\u001b[0m min_distance_seaport_coords \u001b[38;5;241m=\u001b[39m seaports_russ_5940\u001b[38;5;241m.\u001b[39mloc[min_distance_airport]\u001b[38;5;241m.\u001b[39mgeometry\u001b[38;5;241m.\u001b[39mcoords[\u001b[38;5;241m0\u001b[39m]\n\u001b[0;32m      2\u001b[0m min_distance_airport_coords \u001b[38;5;241m=\u001b[39m largeAirports\u001b[38;5;241m.\u001b[39mloc[min_distance_airport]\u001b[38;5;241m.\u001b[39mgeometry\u001b[38;5;241m.\u001b[39mcoords[\u001b[38;5;241m0\u001b[39m]\n",
      "File \u001b[1;32m~\\anaconda3\\envs\\CienciadelosDatosEspaciales\\Lib\\site-packages\\pandas\\core\\indexing.py:1103\u001b[0m, in \u001b[0;36m_LocationIndexer.__getitem__\u001b[1;34m(self, key)\u001b[0m\n\u001b[0;32m   1100\u001b[0m axis \u001b[38;5;241m=\u001b[39m \u001b[38;5;28mself\u001b[39m\u001b[38;5;241m.\u001b[39maxis \u001b[38;5;129;01mor\u001b[39;00m \u001b[38;5;241m0\u001b[39m\n\u001b[0;32m   1102\u001b[0m maybe_callable \u001b[38;5;241m=\u001b[39m com\u001b[38;5;241m.\u001b[39mapply_if_callable(key, \u001b[38;5;28mself\u001b[39m\u001b[38;5;241m.\u001b[39mobj)\n\u001b[1;32m-> 1103\u001b[0m \u001b[38;5;28;01mreturn\u001b[39;00m \u001b[38;5;28mself\u001b[39m\u001b[38;5;241m.\u001b[39m_getitem_axis(maybe_callable, axis\u001b[38;5;241m=\u001b[39maxis)\n",
      "File \u001b[1;32m~\\anaconda3\\envs\\CienciadelosDatosEspaciales\\Lib\\site-packages\\pandas\\core\\indexing.py:1343\u001b[0m, in \u001b[0;36m_LocIndexer._getitem_axis\u001b[1;34m(self, key, axis)\u001b[0m\n\u001b[0;32m   1341\u001b[0m \u001b[38;5;66;03m# fall thru to straight lookup\u001b[39;00m\n\u001b[0;32m   1342\u001b[0m \u001b[38;5;28mself\u001b[39m\u001b[38;5;241m.\u001b[39m_validate_key(key, axis)\n\u001b[1;32m-> 1343\u001b[0m \u001b[38;5;28;01mreturn\u001b[39;00m \u001b[38;5;28mself\u001b[39m\u001b[38;5;241m.\u001b[39m_get_label(key, axis\u001b[38;5;241m=\u001b[39maxis)\n",
      "File \u001b[1;32m~\\anaconda3\\envs\\CienciadelosDatosEspaciales\\Lib\\site-packages\\pandas\\core\\indexing.py:1293\u001b[0m, in \u001b[0;36m_LocIndexer._get_label\u001b[1;34m(self, label, axis)\u001b[0m\n\u001b[0;32m   1291\u001b[0m \u001b[38;5;28;01mdef\u001b[39;00m \u001b[38;5;21m_get_label\u001b[39m(\u001b[38;5;28mself\u001b[39m, label, axis: AxisInt):\n\u001b[0;32m   1292\u001b[0m     \u001b[38;5;66;03m# GH#5567 this will fail if the label is not present in the axis.\u001b[39;00m\n\u001b[1;32m-> 1293\u001b[0m     \u001b[38;5;28;01mreturn\u001b[39;00m \u001b[38;5;28mself\u001b[39m\u001b[38;5;241m.\u001b[39mobj\u001b[38;5;241m.\u001b[39mxs(label, axis\u001b[38;5;241m=\u001b[39maxis)\n",
      "File \u001b[1;32m~\\anaconda3\\envs\\CienciadelosDatosEspaciales\\Lib\\site-packages\\pandas\\core\\generic.py:4095\u001b[0m, in \u001b[0;36mNDFrame.xs\u001b[1;34m(self, key, axis, level, drop_level)\u001b[0m\n\u001b[0;32m   4093\u001b[0m             new_index \u001b[38;5;241m=\u001b[39m index[loc]\n\u001b[0;32m   4094\u001b[0m \u001b[38;5;28;01melse\u001b[39;00m:\n\u001b[1;32m-> 4095\u001b[0m     loc \u001b[38;5;241m=\u001b[39m index\u001b[38;5;241m.\u001b[39mget_loc(key)\n\u001b[0;32m   4097\u001b[0m     \u001b[38;5;28;01mif\u001b[39;00m \u001b[38;5;28misinstance\u001b[39m(loc, np\u001b[38;5;241m.\u001b[39mndarray):\n\u001b[0;32m   4098\u001b[0m         \u001b[38;5;28;01mif\u001b[39;00m loc\u001b[38;5;241m.\u001b[39mdtype \u001b[38;5;241m==\u001b[39m np\u001b[38;5;241m.\u001b[39mbool_:\n",
      "File \u001b[1;32m~\\anaconda3\\envs\\CienciadelosDatosEspaciales\\Lib\\site-packages\\pandas\\core\\indexes\\range.py:349\u001b[0m, in \u001b[0;36mRangeIndex.get_loc\u001b[1;34m(self, key)\u001b[0m\n\u001b[0;32m    347\u001b[0m         \u001b[38;5;28;01mraise\u001b[39;00m \u001b[38;5;167;01mKeyError\u001b[39;00m(key) \u001b[38;5;28;01mfrom\u001b[39;00m \u001b[38;5;21;01merr\u001b[39;00m\n\u001b[0;32m    348\u001b[0m \u001b[38;5;28;01mif\u001b[39;00m \u001b[38;5;28misinstance\u001b[39m(key, Hashable):\n\u001b[1;32m--> 349\u001b[0m     \u001b[38;5;28;01mraise\u001b[39;00m \u001b[38;5;167;01mKeyError\u001b[39;00m(key)\n\u001b[0;32m    350\u001b[0m \u001b[38;5;28mself\u001b[39m\u001b[38;5;241m.\u001b[39m_check_indexing_error(key)\n\u001b[0;32m    351\u001b[0m \u001b[38;5;28;01mraise\u001b[39;00m \u001b[38;5;167;01mKeyError\u001b[39;00m(key)\n",
      "\u001b[1;31mKeyError\u001b[0m: 'Sochi International Airport'"
     ]
    }
   ],
   "source": [
    "min_distance_seaport_coords = seaports_russ_5940.loc[min_distance_airport].geometry.coords[0]\n",
    "min_distance_airport_coords = largeAirports.loc[min_distance_airport].geometry.coords[0]"
   ]
  },
  {
   "cell_type": "code",
   "execution_count": 16,
   "id": "51e10bba",
   "metadata": {},
   "outputs": [
    {
     "name": "stdout",
     "output_type": "stream",
     "text": [
      "True\n"
     ]
    }
   ],
   "source": [
    "print('Sochi International Airport' in largeAirports['name'].values)\n"
   ]
  },
  {
   "cell_type": "code",
   "execution_count": 17,
   "id": "2fe801bb",
   "metadata": {},
   "outputs": [
    {
     "name": "stdout",
     "output_type": "stream",
     "text": [
      "True\n"
     ]
    }
   ],
   "source": [
    "airport_name = 'Sochi International Airport'.strip()\n",
    "print(airport_name in largeAirports['name'].values)"
   ]
  },
  {
   "cell_type": "code",
   "execution_count": 18,
   "id": "77913bba",
   "metadata": {},
   "outputs": [
    {
     "name": "stdout",
     "output_type": "stream",
     "text": [
      "True\n"
     ]
    }
   ],
   "source": [
    "airport_name = 'Sochi International Airport'\n",
    "airport_name = airport_name.lower()\n",
    "print(airport_name in largeAirports['name'].str.lower().values)"
   ]
  },
  {
   "cell_type": "code",
   "execution_count": 19,
   "id": "27b75028",
   "metadata": {},
   "outputs": [
    {
     "ename": "KeyError",
     "evalue": "'Sochi International Airport'",
     "output_type": "error",
     "traceback": [
      "\u001b[1;31m---------------------------------------------------------------------------\u001b[0m",
      "\u001b[1;31mKeyError\u001b[0m                                  Traceback (most recent call last)",
      "Cell \u001b[1;32mIn[19], line 1\u001b[0m\n\u001b[1;32m----> 1\u001b[0m min_distance_seaport_coords \u001b[38;5;241m=\u001b[39m seaports_russ_5940\u001b[38;5;241m.\u001b[39mloc[min_distance_airport]\u001b[38;5;241m.\u001b[39mgeometry\u001b[38;5;241m.\u001b[39mcoords[\u001b[38;5;241m0\u001b[39m]\n\u001b[0;32m      2\u001b[0m min_distance_airport_coords \u001b[38;5;241m=\u001b[39m largeAirports\u001b[38;5;241m.\u001b[39mloc[min_distance_airport]\u001b[38;5;241m.\u001b[39mgeometry\u001b[38;5;241m.\u001b[39mcoords[\u001b[38;5;241m0\u001b[39m]\n",
      "File \u001b[1;32m~\\anaconda3\\envs\\CienciadelosDatosEspaciales\\Lib\\site-packages\\pandas\\core\\indexing.py:1103\u001b[0m, in \u001b[0;36m_LocationIndexer.__getitem__\u001b[1;34m(self, key)\u001b[0m\n\u001b[0;32m   1100\u001b[0m axis \u001b[38;5;241m=\u001b[39m \u001b[38;5;28mself\u001b[39m\u001b[38;5;241m.\u001b[39maxis \u001b[38;5;129;01mor\u001b[39;00m \u001b[38;5;241m0\u001b[39m\n\u001b[0;32m   1102\u001b[0m maybe_callable \u001b[38;5;241m=\u001b[39m com\u001b[38;5;241m.\u001b[39mapply_if_callable(key, \u001b[38;5;28mself\u001b[39m\u001b[38;5;241m.\u001b[39mobj)\n\u001b[1;32m-> 1103\u001b[0m \u001b[38;5;28;01mreturn\u001b[39;00m \u001b[38;5;28mself\u001b[39m\u001b[38;5;241m.\u001b[39m_getitem_axis(maybe_callable, axis\u001b[38;5;241m=\u001b[39maxis)\n",
      "File \u001b[1;32m~\\anaconda3\\envs\\CienciadelosDatosEspaciales\\Lib\\site-packages\\pandas\\core\\indexing.py:1343\u001b[0m, in \u001b[0;36m_LocIndexer._getitem_axis\u001b[1;34m(self, key, axis)\u001b[0m\n\u001b[0;32m   1341\u001b[0m \u001b[38;5;66;03m# fall thru to straight lookup\u001b[39;00m\n\u001b[0;32m   1342\u001b[0m \u001b[38;5;28mself\u001b[39m\u001b[38;5;241m.\u001b[39m_validate_key(key, axis)\n\u001b[1;32m-> 1343\u001b[0m \u001b[38;5;28;01mreturn\u001b[39;00m \u001b[38;5;28mself\u001b[39m\u001b[38;5;241m.\u001b[39m_get_label(key, axis\u001b[38;5;241m=\u001b[39maxis)\n",
      "File \u001b[1;32m~\\anaconda3\\envs\\CienciadelosDatosEspaciales\\Lib\\site-packages\\pandas\\core\\indexing.py:1293\u001b[0m, in \u001b[0;36m_LocIndexer._get_label\u001b[1;34m(self, label, axis)\u001b[0m\n\u001b[0;32m   1291\u001b[0m \u001b[38;5;28;01mdef\u001b[39;00m \u001b[38;5;21m_get_label\u001b[39m(\u001b[38;5;28mself\u001b[39m, label, axis: AxisInt):\n\u001b[0;32m   1292\u001b[0m     \u001b[38;5;66;03m# GH#5567 this will fail if the label is not present in the axis.\u001b[39;00m\n\u001b[1;32m-> 1293\u001b[0m     \u001b[38;5;28;01mreturn\u001b[39;00m \u001b[38;5;28mself\u001b[39m\u001b[38;5;241m.\u001b[39mobj\u001b[38;5;241m.\u001b[39mxs(label, axis\u001b[38;5;241m=\u001b[39maxis)\n",
      "File \u001b[1;32m~\\anaconda3\\envs\\CienciadelosDatosEspaciales\\Lib\\site-packages\\pandas\\core\\generic.py:4095\u001b[0m, in \u001b[0;36mNDFrame.xs\u001b[1;34m(self, key, axis, level, drop_level)\u001b[0m\n\u001b[0;32m   4093\u001b[0m             new_index \u001b[38;5;241m=\u001b[39m index[loc]\n\u001b[0;32m   4094\u001b[0m \u001b[38;5;28;01melse\u001b[39;00m:\n\u001b[1;32m-> 4095\u001b[0m     loc \u001b[38;5;241m=\u001b[39m index\u001b[38;5;241m.\u001b[39mget_loc(key)\n\u001b[0;32m   4097\u001b[0m     \u001b[38;5;28;01mif\u001b[39;00m \u001b[38;5;28misinstance\u001b[39m(loc, np\u001b[38;5;241m.\u001b[39mndarray):\n\u001b[0;32m   4098\u001b[0m         \u001b[38;5;28;01mif\u001b[39;00m loc\u001b[38;5;241m.\u001b[39mdtype \u001b[38;5;241m==\u001b[39m np\u001b[38;5;241m.\u001b[39mbool_:\n",
      "File \u001b[1;32m~\\anaconda3\\envs\\CienciadelosDatosEspaciales\\Lib\\site-packages\\pandas\\core\\indexes\\range.py:349\u001b[0m, in \u001b[0;36mRangeIndex.get_loc\u001b[1;34m(self, key)\u001b[0m\n\u001b[0;32m    347\u001b[0m         \u001b[38;5;28;01mraise\u001b[39;00m \u001b[38;5;167;01mKeyError\u001b[39;00m(key) \u001b[38;5;28;01mfrom\u001b[39;00m \u001b[38;5;21;01merr\u001b[39;00m\n\u001b[0;32m    348\u001b[0m \u001b[38;5;28;01mif\u001b[39;00m \u001b[38;5;28misinstance\u001b[39m(key, Hashable):\n\u001b[1;32m--> 349\u001b[0m     \u001b[38;5;28;01mraise\u001b[39;00m \u001b[38;5;167;01mKeyError\u001b[39;00m(key)\n\u001b[0;32m    350\u001b[0m \u001b[38;5;28mself\u001b[39m\u001b[38;5;241m.\u001b[39m_check_indexing_error(key)\n\u001b[0;32m    351\u001b[0m \u001b[38;5;28;01mraise\u001b[39;00m \u001b[38;5;167;01mKeyError\u001b[39;00m(key)\n",
      "\u001b[1;31mKeyError\u001b[0m: 'Sochi International Airport'"
     ]
    }
   ],
   "source": [
    "min_distance_seaport_coords = seaports_russ_5940.loc[min_distance_airport].geometry.coords[0]\n",
    "min_distance_airport_coords = largeAirports.loc[min_distance_airport].geometry.coords[0]"
   ]
  },
  {
   "cell_type": "code",
   "execution_count": null,
   "id": "e831ae90",
   "metadata": {},
   "outputs": [],
   "source": []
  }
 ],
 "metadata": {
  "kernelspec": {
   "display_name": "Python 3 (ipykernel)",
   "language": "python",
   "name": "python3"
  },
  "language_info": {
   "codemirror_mode": {
    "name": "ipython",
    "version": 3
   },
   "file_extension": ".py",
   "mimetype": "text/x-python",
   "name": "python",
   "nbconvert_exporter": "python",
   "pygments_lexer": "ipython3",
   "version": "3.11.4"
  }
 },
 "nbformat": 4,
 "nbformat_minor": 5
}
