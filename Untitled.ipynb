{
 "cells": [
  {
   "cell_type": "markdown",
   "id": "89c820a2",
   "metadata": {},
   "source": [
    "# ENTREGA FINAL \n",
    "## Mining your GeoDataFrame\n"
   ]
  },
  {
   "cell_type": "code",
   "execution_count": 8,
   "id": "fe05bb6a",
   "metadata": {},
   "outputs": [
    {
     "data": {
      "text/plain": [
       "['country', 'cities', 'rivers']"
      ]
     },
     "execution_count": 8,
     "metadata": {},
     "output_type": "execute_result"
    }
   ],
   "source": [
    "from  fiona import listlayers\n",
    "import os\n",
    "\n",
    "russiaMaps=os.path.join('maps','russiaMaps_5940.gpkg')\n",
    "\n",
    "#layers in maps\n",
    "listlayers(russiaMaps)\n"
   ]
  },
  {
   "cell_type": "code",
   "execution_count": 9,
   "id": "7058acac",
   "metadata": {},
   "outputs": [
    {
     "ename": "TypeError",
     "evalue": "invalid path:              id        ident                 type  \\\n0     #meta +id  #meta +code  #loc +airport +type   \n1         26396         UUEE        large_airport   \n2         26394         UUDD        large_airport   \n3          6489         ULLI        large_airport   \n4         26401         UUWW        large_airport   \n...         ...          ...                  ...   \n1553     353428      RU-0894             heliport   \n1554     352501      RU-0809             heliport   \n1555     341696      RU-0667             heliport   \n1556     352996      RU-0859             heliport   \n1557      44702      RU-0193             heliport   \n\n                                    name        latitude_deg  \\\n0                    #loc +airport +name           #geo +lat   \n1     Sheremetyevo International Airport           55.972599   \n2       Domodedovo International Airport   55.40879821777344   \n3                        Pulkovo Airport   59.80030059814453   \n4          Vnukovo International Airport       55.5914993286   \n...                                  ...                 ...   \n1553                   Zheltura Heliport            50.46267   \n1554                Zhuravlevka Heliport            49.09049   \n1555                    Zimenki Heliport           56.156272   \n1556                     Zorgol Heliport             50.5872   \n1557                   Pushkino Heliport  56.041999816899995   \n\n           longitude_deg         elevation_ft                 continent  \\\n0              #geo +lon  #geo +elevation +ft  #region +continent +code   \n1                37.4146                  622                        EU   \n2      37.90629959106445                  588                        EU   \n3     30.262500762939453                   78                        EU   \n4          37.2615013123                  685                        EU   \n...                  ...                  ...                       ...   \n1553           105.09323                 2356                        EU   \n1554           129.99353                  305                        EU   \n1555           44.251689                  NaN                        EU   \n1556           119.25723                 1650                        EU   \n1557       37.9780006409                  NaN                        EU   \n\n        country_name           iso_country  ...              municipality  \\\n0     #country +name  #country +code +iso2  ...  #loc +municipality +name   \n1             Russia                    RU  ...                    Moscow   \n2             Russia                    RU  ...                    Moscow   \n3             Russia                    RU  ...            St. Petersburg   \n4             Russia                    RU  ...                    Moscow   \n...              ...                   ...  ...                       ...   \n1553          Russia                    RU  ...                  Zheltura   \n1554          Russia                    RU  ...               Zhuravlevka   \n1555          Russia                    RU  ...                   Zimenki   \n1556          Russia                    RU  ...                    Zorgol   \n1557          Russia                    RU  ...              Zverosovkhoz   \n\n       scheduled_service                  gps_code                  iata_code  \\\n0     #status +scheduled  #loc +airport +code +gps  #loc +airport +code +iata   \n1                      1                      UUEE                        SVO   \n2                      1                      UUDD                        DME   \n3                      1                      ULLI                        LED   \n4                      1                      UUWW                        VKO   \n...                  ...                       ...                        ...   \n1553                   0                       NaN                        NaN   \n1554                   0                       NaN                        NaN   \n1555                   0                       NaN                        NaN   \n1556                   0                       NaN                        NaN   \n1557                   0                       NaN                        NaN   \n\n                      local_code                      home_link  \\\n0     #loc +airport +code +local            #meta +url +airport   \n1                            NaN        http://www.svo.aero/en/   \n2                            NaN   http://www.domodedovo.ru/en/   \n3                            NaN  http://www.pulkovoairport.ru/   \n4                            NaN      http://www.vnukovo.ru/eng   \n...                          ...                            ...   \n1553                         NaN                            NaN   \n1554                         NaN                            NaN   \n1555                         NaN                            NaN   \n1556                         NaN                            NaN   \n1557                         NaN          http://www.agusta.ru/   \n\n                                         wikipedia_link  \\\n0                                 #meta +url +wikipedia   \n1     https://en.wikipedia.org/wiki/Sheremetyevo_Int...   \n2     https://en.wikipedia.org/wiki/Domodedovo_Inter...   \n3         https://en.wikipedia.org/wiki/Pulkovo_Airport   \n4     https://en.wikipedia.org/wiki/Vnukovo_Internat...   \n...                                                 ...   \n1553                                                NaN   \n1554                                                NaN   \n1555                                                NaN   \n1556                                                NaN   \n1557                                                NaN   \n\n                                               keywords         score  \\\n0                                       #meta +keywords  #meta +score   \n1     MOW, Международный аэропорт Шереметьево, svo, ...       1012675   \n2                             MOW, Аэропорт Домоде́дово         51200   \n3     Аэропо́рт Пу́лково, Leningrad, Shosseynaya Air...          1200   \n4                   MOW, Международный аэропорт Внуково          1000   \n...                                                 ...           ...   \n1553                                                NaN             0   \n1554                                                NaN             0   \n1555                                                NaN             0   \n1556                                                NaN             0   \n1557                                  Вертодром Пушкино             0   \n\n                   last_updated  \n0                #date +updated  \n1     2016-10-24T15:52:44+00:00  \n2     2008-06-13T14:30:04+00:00  \n3     2008-06-13T14:30:04+00:00  \n4     2013-10-06T05:53:16+00:00  \n...                         ...  \n1553  2022-03-09T02:14:04+00:00  \n1554  2022-02-08T17:59:26+00:00  \n1555  2021-03-05T14:09:59+00:00  \n1556  2022-02-24T18:56:07+00:00  \n1557  2010-02-25T11:06:38+00:00  \n\n[1558 rows x 23 columns]",
     "output_type": "error",
     "traceback": [
      "\u001b[1;31m---------------------------------------------------------------------------\u001b[0m",
      "\u001b[1;31mTypeError\u001b[0m                                 Traceback (most recent call last)",
      "Cell \u001b[1;32mIn[9], line 6\u001b[0m\n\u001b[0;32m      2\u001b[0m infoairports\u001b[38;5;241m=\u001b[39mpd\u001b[38;5;241m.\u001b[39mread_csv(os\u001b[38;5;241m.\u001b[39mpath\u001b[38;5;241m.\u001b[39mjoin(\u001b[38;5;124m\"\u001b[39m\u001b[38;5;124mmaps\u001b[39m\u001b[38;5;124m\"\u001b[39m,\u001b[38;5;124m\"\u001b[39m\u001b[38;5;124mru-airports.csv\u001b[39m\u001b[38;5;124m\"\u001b[39m))\n\u001b[0;32m      4\u001b[0m \u001b[38;5;66;03m# see\u001b[39;00m\n\u001b[1;32m----> 6\u001b[0m listlayers(infoairports)\n",
      "File \u001b[1;32m~\\anaconda3\\envs\\CienciadelosDatosEspaciales\\Lib\\site-packages\\fiona\\env.py:457\u001b[0m, in \u001b[0;36mensure_env_with_credentials.<locals>.wrapper\u001b[1;34m(*args, **kwds)\u001b[0m\n\u001b[0;32m    454\u001b[0m     session \u001b[38;5;241m=\u001b[39m DummySession()\n\u001b[0;32m    456\u001b[0m \u001b[38;5;28;01mwith\u001b[39;00m env_ctor(session\u001b[38;5;241m=\u001b[39msession):\n\u001b[1;32m--> 457\u001b[0m     \u001b[38;5;28;01mreturn\u001b[39;00m f(\u001b[38;5;241m*\u001b[39margs, \u001b[38;5;241m*\u001b[39m\u001b[38;5;241m*\u001b[39mkwds)\n",
      "File \u001b[1;32m~\\anaconda3\\envs\\CienciadelosDatosEspaciales\\Lib\\site-packages\\fiona\\__init__.py:444\u001b[0m, in \u001b[0;36mlistlayers\u001b[1;34m(fp, vfs)\u001b[0m\n\u001b[0;32m    441\u001b[0m     fp \u001b[38;5;241m=\u001b[39m \u001b[38;5;28mstr\u001b[39m(fp)\n\u001b[0;32m    443\u001b[0m \u001b[38;5;28;01mif\u001b[39;00m \u001b[38;5;129;01mnot\u001b[39;00m \u001b[38;5;28misinstance\u001b[39m(fp, \u001b[38;5;28mstr\u001b[39m):\n\u001b[1;32m--> 444\u001b[0m     \u001b[38;5;28;01mraise\u001b[39;00m \u001b[38;5;167;01mTypeError\u001b[39;00m(\u001b[38;5;124m\"\u001b[39m\u001b[38;5;124minvalid path: \u001b[39m\u001b[38;5;132;01m%r\u001b[39;00m\u001b[38;5;124m\"\u001b[39m \u001b[38;5;241m%\u001b[39m fp)\n\u001b[0;32m    445\u001b[0m \u001b[38;5;28;01mif\u001b[39;00m vfs \u001b[38;5;129;01mand\u001b[39;00m \u001b[38;5;129;01mnot\u001b[39;00m \u001b[38;5;28misinstance\u001b[39m(vfs, \u001b[38;5;28mstr\u001b[39m):\n\u001b[0;32m    446\u001b[0m     \u001b[38;5;28;01mraise\u001b[39;00m \u001b[38;5;167;01mTypeError\u001b[39;00m(\u001b[38;5;124m\"\u001b[39m\u001b[38;5;124minvalid vfs: \u001b[39m\u001b[38;5;132;01m%r\u001b[39;00m\u001b[38;5;124m\"\u001b[39m \u001b[38;5;241m%\u001b[39m vfs)\n",
      "\u001b[1;31mTypeError\u001b[0m: invalid path:              id        ident                 type  \\\n0     #meta +id  #meta +code  #loc +airport +type   \n1         26396         UUEE        large_airport   \n2         26394         UUDD        large_airport   \n3          6489         ULLI        large_airport   \n4         26401         UUWW        large_airport   \n...         ...          ...                  ...   \n1553     353428      RU-0894             heliport   \n1554     352501      RU-0809             heliport   \n1555     341696      RU-0667             heliport   \n1556     352996      RU-0859             heliport   \n1557      44702      RU-0193             heliport   \n\n                                    name        latitude_deg  \\\n0                    #loc +airport +name           #geo +lat   \n1     Sheremetyevo International Airport           55.972599   \n2       Domodedovo International Airport   55.40879821777344   \n3                        Pulkovo Airport   59.80030059814453   \n4          Vnukovo International Airport       55.5914993286   \n...                                  ...                 ...   \n1553                   Zheltura Heliport            50.46267   \n1554                Zhuravlevka Heliport            49.09049   \n1555                    Zimenki Heliport           56.156272   \n1556                     Zorgol Heliport             50.5872   \n1557                   Pushkino Heliport  56.041999816899995   \n\n           longitude_deg         elevation_ft                 continent  \\\n0              #geo +lon  #geo +elevation +ft  #region +continent +code   \n1                37.4146                  622                        EU   \n2      37.90629959106445                  588                        EU   \n3     30.262500762939453                   78                        EU   \n4          37.2615013123                  685                        EU   \n...                  ...                  ...                       ...   \n1553           105.09323                 2356                        EU   \n1554           129.99353                  305                        EU   \n1555           44.251689                  NaN                        EU   \n1556           119.25723                 1650                        EU   \n1557       37.9780006409                  NaN                        EU   \n\n        country_name           iso_country  ...              municipality  \\\n0     #country +name  #country +code +iso2  ...  #loc +municipality +name   \n1             Russia                    RU  ...                    Moscow   \n2             Russia                    RU  ...                    Moscow   \n3             Russia                    RU  ...            St. Petersburg   \n4             Russia                    RU  ...                    Moscow   \n...              ...                   ...  ...                       ...   \n1553          Russia                    RU  ...                  Zheltura   \n1554          Russia                    RU  ...               Zhuravlevka   \n1555          Russia                    RU  ...                   Zimenki   \n1556          Russia                    RU  ...                    Zorgol   \n1557          Russia                    RU  ...              Zverosovkhoz   \n\n       scheduled_service                  gps_code                  iata_code  \\\n0     #status +scheduled  #loc +airport +code +gps  #loc +airport +code +iata   \n1                      1                      UUEE                        SVO   \n2                      1                      UUDD                        DME   \n3                      1                      ULLI                        LED   \n4                      1                      UUWW                        VKO   \n...                  ...                       ...                        ...   \n1553                   0                       NaN                        NaN   \n1554                   0                       NaN                        NaN   \n1555                   0                       NaN                        NaN   \n1556                   0                       NaN                        NaN   \n1557                   0                       NaN                        NaN   \n\n                      local_code                      home_link  \\\n0     #loc +airport +code +local            #meta +url +airport   \n1                            NaN        http://www.svo.aero/en/   \n2                            NaN   http://www.domodedovo.ru/en/   \n3                            NaN  http://www.pulkovoairport.ru/   \n4                            NaN      http://www.vnukovo.ru/eng   \n...                          ...                            ...   \n1553                         NaN                            NaN   \n1554                         NaN                            NaN   \n1555                         NaN                            NaN   \n1556                         NaN                            NaN   \n1557                         NaN          http://www.agusta.ru/   \n\n                                         wikipedia_link  \\\n0                                 #meta +url +wikipedia   \n1     https://en.wikipedia.org/wiki/Sheremetyevo_Int...   \n2     https://en.wikipedia.org/wiki/Domodedovo_Inter...   \n3         https://en.wikipedia.org/wiki/Pulkovo_Airport   \n4     https://en.wikipedia.org/wiki/Vnukovo_Internat...   \n...                                                 ...   \n1553                                                NaN   \n1554                                                NaN   \n1555                                                NaN   \n1556                                                NaN   \n1557                                                NaN   \n\n                                               keywords         score  \\\n0                                       #meta +keywords  #meta +score   \n1     MOW, Международный аэропорт Шереметьево, svo, ...       1012675   \n2                             MOW, Аэропорт Домоде́дово         51200   \n3     Аэропо́рт Пу́лково, Leningrad, Shosseynaya Air...          1200   \n4                   MOW, Международный аэропорт Внуково          1000   \n...                                                 ...           ...   \n1553                                                NaN             0   \n1554                                                NaN             0   \n1555                                                NaN             0   \n1556                                                NaN             0   \n1557                                  Вертодром Пушкино             0   \n\n                   last_updated  \n0                #date +updated  \n1     2016-10-24T15:52:44+00:00  \n2     2008-06-13T14:30:04+00:00  \n3     2008-06-13T14:30:04+00:00  \n4     2013-10-06T05:53:16+00:00  \n...                         ...  \n1553  2022-03-09T02:14:04+00:00  \n1554  2022-02-08T17:59:26+00:00  \n1555  2021-03-05T14:09:59+00:00  \n1556  2022-02-24T18:56:07+00:00  \n1557  2010-02-25T11:06:38+00:00  \n\n[1558 rows x 23 columns]"
     ]
    }
   ],
   "source": [
    "import pandas as pd \n",
    "infoairports=pd.read_csv(os.path.join(\"maps\",\"ru-airports.csv\"))\n",
    "\n",
    "# see\n",
    "\n",
    "listlayers(infoairports)"
   ]
  },
  {
   "cell_type": "code",
   "execution_count": null,
   "id": "455dd255",
   "metadata": {},
   "outputs": [],
   "source": []
  }
 ],
 "metadata": {
  "kernelspec": {
   "display_name": "Python 3 (ipykernel)",
   "language": "python",
   "name": "python3"
  },
  "language_info": {
   "codemirror_mode": {
    "name": "ipython",
    "version": 3
   },
   "file_extension": ".py",
   "mimetype": "text/x-python",
   "name": "python",
   "nbconvert_exporter": "python",
   "pygments_lexer": "ipython3",
   "version": "3.11.4"
  }
 },
 "nbformat": 4,
 "nbformat_minor": 5
}
