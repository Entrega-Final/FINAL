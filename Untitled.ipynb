{
 "cells": [
  {
   "cell_type": "markdown",
   "id": "89c820a2",
   "metadata": {},
   "source": [
    "# ENTREGA FINAL \n",
    "## Mining your GeoDataFrame\n"
   ]
  },
  {
   "cell_type": "code",
   "execution_count": 2,
   "id": "fe05bb6a",
   "metadata": {},
   "outputs": [
    {
     "data": {
      "text/plain": [
       "['airports',\n",
       " 'states',\n",
       " 'municipalities',\n",
       " 'country',\n",
       " 'cities',\n",
       " 'rivers',\n",
       " 'border']"
      ]
     },
     "execution_count": 2,
     "metadata": {},
     "output_type": "execute_result"
    }
   ],
   "source": [
    "from  fiona import listlayers\n",
    "import os\n",
    "\n",
    "russiaMaps=os.path.join('maps','russiaMaps_5940_all.gpkg')\n",
    "\n",
    "#layers in maps\n",
    "listlayers(russiaMaps)\n"
   ]
  },
  {
   "cell_type": "code",
   "execution_count": 3,
   "id": "b3aa24cf",
   "metadata": {},
   "outputs": [],
   "source": [
    "# reading in the data:\n",
    "import os\n",
    "import geopandas as gpd\n",
    "\n",
    "states=gpd.read_file(russiaMaps,layer='states')\n",
    "municipalities=gpd.read_file(russiaMaps,layer='municipalities')\n",
    "airports=gpd.read_file(russiaMaps,layer='airports')\n",
    "rivers=gpd.read_file(russiaMaps,layer='rivers')\n",
    "border=gpd.read_file(russiaMaps,layer='border')"
   ]
  },
  {
   "cell_type": "code",
   "execution_count": null,
   "id": "996a46ec",
   "metadata": {},
   "outputs": [],
   "source": []
  }
 ],
 "metadata": {
  "kernelspec": {
   "display_name": "Python 3 (ipykernel)",
   "language": "python",
   "name": "python3"
  },
  "language_info": {
   "codemirror_mode": {
    "name": "ipython",
    "version": 3
   },
   "file_extension": ".py",
   "mimetype": "text/x-python",
   "name": "python",
   "nbconvert_exporter": "python",
   "pygments_lexer": "ipython3",
   "version": "3.11.4"
  }
 },
 "nbformat": 4,
 "nbformat_minor": 5
}
