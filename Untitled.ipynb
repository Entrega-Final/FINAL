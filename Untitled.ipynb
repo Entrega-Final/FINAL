{
 "cells": [
  {
   "cell_type": "markdown",
   "id": "89c820a2",
   "metadata": {},
   "source": [
    "# ENTREGA FINAL \n",
    "## Mining your GeoDataFrame\n"
   ]
  },
  {
   "cell_type": "code",
   "execution_count": 1,
   "id": "fe05bb6a",
   "metadata": {},
   "outputs": [
    {
     "ename": "DriverError",
     "evalue": "maps\\russiaMaps_5940.gpkg: No such file or directory",
     "output_type": "error",
     "traceback": [
      "\u001b[1;31m---------------------------------------------------------------------------\u001b[0m",
      "\u001b[1;31mCPLE_OpenFailedError\u001b[0m                      Traceback (most recent call last)",
      "File \u001b[1;32mfiona\\ogrext.pyx:136\u001b[0m, in \u001b[0;36mfiona.ogrext.gdal_open_vector\u001b[1;34m()\u001b[0m\n",
      "File \u001b[1;32mfiona\\_err.pyx:291\u001b[0m, in \u001b[0;36mfiona._err.exc_wrap_pointer\u001b[1;34m()\u001b[0m\n",
      "\u001b[1;31mCPLE_OpenFailedError\u001b[0m: maps\\russiaMaps_5940.gpkg: No such file or directory",
      "\nDuring handling of the above exception, another exception occurred:\n",
      "\u001b[1;31mDriverError\u001b[0m                               Traceback (most recent call last)",
      "Cell \u001b[1;32mIn[1], line 7\u001b[0m\n\u001b[0;32m      4\u001b[0m russiaMaps\u001b[38;5;241m=\u001b[39mos\u001b[38;5;241m.\u001b[39mpath\u001b[38;5;241m.\u001b[39mjoin(\u001b[38;5;124m'\u001b[39m\u001b[38;5;124mmaps\u001b[39m\u001b[38;5;124m'\u001b[39m,\u001b[38;5;124m'\u001b[39m\u001b[38;5;124mrussiaMaps_5940.gpkg\u001b[39m\u001b[38;5;124m'\u001b[39m)\n\u001b[0;32m      6\u001b[0m \u001b[38;5;66;03m#layers in maps\u001b[39;00m\n\u001b[1;32m----> 7\u001b[0m listlayers(russiaMaps)\n",
      "File \u001b[1;32m~\\anaconda3\\envs\\CienciadelosDatosEspaciales\\Lib\\site-packages\\fiona\\env.py:457\u001b[0m, in \u001b[0;36mensure_env_with_credentials.<locals>.wrapper\u001b[1;34m(*args, **kwds)\u001b[0m\n\u001b[0;32m    454\u001b[0m     session \u001b[38;5;241m=\u001b[39m DummySession()\n\u001b[0;32m    456\u001b[0m \u001b[38;5;28;01mwith\u001b[39;00m env_ctor(session\u001b[38;5;241m=\u001b[39msession):\n\u001b[1;32m--> 457\u001b[0m     \u001b[38;5;28;01mreturn\u001b[39;00m f(\u001b[38;5;241m*\u001b[39margs, \u001b[38;5;241m*\u001b[39m\u001b[38;5;241m*\u001b[39mkwds)\n",
      "File \u001b[1;32m~\\anaconda3\\envs\\CienciadelosDatosEspaciales\\Lib\\site-packages\\fiona\\__init__.py:456\u001b[0m, in \u001b[0;36mlistlayers\u001b[1;34m(fp, vfs)\u001b[0m\n\u001b[0;32m    453\u001b[0m \u001b[38;5;28;01melse\u001b[39;00m:\n\u001b[0;32m    454\u001b[0m     pobj \u001b[38;5;241m=\u001b[39m parse_path(fp)\n\u001b[1;32m--> 456\u001b[0m \u001b[38;5;28;01mreturn\u001b[39;00m _listlayers(vsi_path(pobj))\n",
      "File \u001b[1;32mfiona\\ogrext.pyx:1883\u001b[0m, in \u001b[0;36mfiona.ogrext._listlayers\u001b[1;34m()\u001b[0m\n",
      "File \u001b[1;32mfiona\\ogrext.pyx:143\u001b[0m, in \u001b[0;36mfiona.ogrext.gdal_open_vector\u001b[1;34m()\u001b[0m\n",
      "\u001b[1;31mDriverError\u001b[0m: maps\\russiaMaps_5940.gpkg: No such file or directory"
     ]
    }
   ],
   "source": [
    "from  fiona import listlayers\n",
    "import os\n",
    "\n",
    "russiaMaps=os.path.join('maps','russiaMaps_5940.gpkg')\n",
    "\n",
    "#layers in maps\n",
    "listlayers(russiaMaps)"
   ]
  },
  {
   "cell_type": "code",
   "execution_count": null,
   "id": "7058acac",
   "metadata": {},
   "outputs": [],
   "source": []
  }
 ],
 "metadata": {
  "kernelspec": {
   "display_name": "Python 3 (ipykernel)",
   "language": "python",
   "name": "python3"
  },
  "language_info": {
   "codemirror_mode": {
    "name": "ipython",
    "version": 3
   },
   "file_extension": ".py",
   "mimetype": "text/x-python",
   "name": "python",
   "nbconvert_exporter": "python",
   "pygments_lexer": "ipython3",
   "version": "3.11.4"
  }
 },
 "nbformat": 4,
 "nbformat_minor": 5
}
