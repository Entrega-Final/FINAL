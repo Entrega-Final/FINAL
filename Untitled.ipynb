{
 "cells": [
  {
   "cell_type": "markdown",
   "id": "89c820a2",
   "metadata": {},
   "source": [
    "# ENTREGA FINAL \n",
    "## Mining your GeoDataFrame\n"
   ]
  },
  {
   "cell_type": "code",
   "execution_count": 4,
   "id": "fe05bb6a",
   "metadata": {},
   "outputs": [
    {
     "data": {
      "text/plain": [
       "['country', 'cities', 'rivers']"
      ]
     },
     "execution_count": 4,
     "metadata": {},
     "output_type": "execute_result"
    }
   ],
   "source": [
    "from  fiona import listlayers\n",
    "import os\n",
    "\n",
    "russiaMaps=os.path.join('maps','russiaMaps_5940.gpkg')\n",
    "\n",
    "#layers in maps\n",
    "listlayers(russiaMaps)"
   ]
  },
  {
   "cell_type": "code",
   "execution_count": null,
   "id": "7058acac",
   "metadata": {},
   "outputs": [],
   "source": []
  }
 ],
 "metadata": {
  "kernelspec": {
   "display_name": "Python 3 (ipykernel)",
   "language": "python",
   "name": "python3"
  },
  "language_info": {
   "codemirror_mode": {
    "name": "ipython",
    "version": 3
   },
   "file_extension": ".py",
   "mimetype": "text/x-python",
   "name": "python",
   "nbconvert_exporter": "python",
   "pygments_lexer": "ipython3",
   "version": "3.11.4"
  }
 },
 "nbformat": 4,
 "nbformat_minor": 5
}
